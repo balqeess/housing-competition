{
 "cells": [
  {
   "cell_type": "code",
   "execution_count": null,
   "metadata": {},
   "outputs": [],
   "source": [
    "import pandas as pd\n",
    "from sklearn.model_selection import train_test_split\n",
    "import pandas as pd\n",
    "import seaborn as sns\n",
    "import matplotlib.pyplot as plt\n",
    "import numpy as np"
   ]
  },
  {
   "cell_type": "code",
   "execution_count": null,
   "metadata": {},
   "outputs": [],
   "source": [
    "# save filepath \n",
    "home_data_file_path = '/Users/balqeesjabri/Downloads/train.csv'\n",
    "# read the data and store data in DataFrame home_data\n",
    "home_data = pd.read_csv(home_data_file_path)"
   ]
  },
  {
   "cell_type": "code",
   "execution_count": null,
   "metadata": {},
   "outputs": [],
   "source": [
    "home_data.head()"
   ]
  },
  {
   "cell_type": "markdown",
   "metadata": {},
   "source": [
    "Based on the charatistics of the dataset I have concluded that:\n",
    "1. It is a supervised problem since the dataset includes labeled examples where each data point has a corresponding target variable( house price in this case)\n",
    "2. The target variable is continuous (i.e numerical value house price), therefore, it is a regression problem"
   ]
  },
  {
   "cell_type": "code",
   "execution_count": null,
   "metadata": {},
   "outputs": [],
   "source": [
    "# print a summary of the data in Melbourne data\n",
    "summary_stats = home_data.describe()\n",
    "print(summary_stats)"
   ]
  },
  {
   "cell_type": "markdown",
   "metadata": {},
   "source": [
    "based on the above output:\n",
    "I will utilize it to try and identify the outliers\n",
    "by looking into features that have: (min,max,mean, 25th and 75th percentile) == 0"
   ]
  },
  {
   "cell_type": "code",
   "execution_count": null,
   "metadata": {},
   "outputs": [],
   "source": [
    "# Create lists to store the features with specific conditions\n",
    "features_zero_min = []\n",
    "features_zero_max = []\n",
    "features_zero_25th_percentile = []\n",
    "\n",
    "# Filter only numeric columns\n",
    "numeric_data = home_data.select_dtypes(include=[float, int])\n",
    "\n",
    "# Check for features with zero minimum\n",
    "features_zero_min = numeric_data.columns[numeric_data.min() == 0].tolist()\n",
    "\n",
    "# Check for features with zero maximum\n",
    "features_zero_max = numeric_data.columns[numeric_data.max() == 0].tolist()\n",
    "\n",
    "# Check for features with zero at the 25th percentile\n",
    "percentile_25_zeros = numeric_data.columns[numeric_data.quantile(0.25) == 0].tolist()\n",
    "\n",
    "# Check for features with zero at the 75th percentile\n",
    "percentile_75_zeros = numeric_data.columns[numeric_data.quantile(0.75) == 0].tolist()\n",
    "\n",
    "# Find features that satisfy both conditions\n",
    "selected_features = list(set(features_zero_min) & set(percentile_25_zeros) & set(percentile_75_zeros))\n",
    "print(\"Features with zero minimum:\", features_zero_min)\n",
    "print(\"Features with zero maximum:\", features_zero_max)\n",
    "print(\"Features with zero at the 25th percentile:\", percentile_25_zeros)\n",
    "print('Features',selected_features)"
   ]
  },
  {
   "cell_type": "code",
   "execution_count": null,
   "metadata": {},
   "outputs": [],
   "source": [
    "# CORRELATION MATRIX\n",
    "\n",
    "# Filter only numerical columns for correlation calculation\n",
    "numerical_data = home_data.select_dtypes(include=[float, int])\n",
    "\n",
    "# Compute the correlation matrix\n",
    "correlation_matrix = numerical_data.corr()\n",
    "\n",
    "# Create the heatmap\n",
    "plt.figure(figsize=(10, 8))\n",
    "sns.heatmap(data=correlation_matrix, annot=False, cmap='coolwarm')\n",
    "plt.title(\"Correlation Matrix Heatmap\")\n",
    "plt.show()"
   ]
  },
  {
   "cell_type": "markdown",
   "metadata": {},
   "source": [
    "FROM THIS HEATMAP:\n",
    "Overallqualities feature has the highest correlation, followed by,\n",
    "1. GrLivArea\n",
    "2. GarageCars\n",
    "3. GarageArea"
   ]
  },
  {
   "cell_type": "code",
   "execution_count": null,
   "metadata": {},
   "outputs": [],
   "source": [
    "# target\n",
    "y = home_data.SalePrice\n",
    "X = home_data.drop(['SalePrice'], axis=1)\n",
    "# Divide data into training and validation subsets\n",
    "X_train_full, X_valid_full, y_train, y_valid = train_test_split(X, y,\n",
    "                                                                random_state=0)"
   ]
  },
  {
   "cell_type": "code",
   "execution_count": null,
   "metadata": {},
   "outputs": [],
   "source": [
    "# is used to see the unique values of the target variable y (in this case, SalePrice)\n",
    "print(\"Classes in the target variable:\", np.unique(y))\n",
    "avg_price = np.mean(y)\n",
    "# will come in handy to see how far off is metric score\n",
    "print(avg_price)"
   ]
  },
  {
   "cell_type": "code",
   "execution_count": null,
   "metadata": {},
   "outputs": [],
   "source": [
    "# Select categorical columns\n",
    "categorical_cols = [colname for colname in X_train_full.columns if X_train_full[colname].dtype == \"object\"]\n",
    "\n",
    "# Select numerical columns\n",
    "numerical_cols = [colname for colname in X_train_full.columns if X_train_full[colname].dtype in ['int64', 'float64']]\n",
    "\n",
    "# Keep selected columns only\n",
    "my_cols = categorical_cols + numerical_cols\n",
    "X_train = X_train_full[my_cols].copy()\n",
    "X_valid = X_valid_full[my_cols].copy()"
   ]
  },
  {
   "cell_type": "code",
   "execution_count": null,
   "metadata": {},
   "outputs": [],
   "source": [
    "# THIS STEP IS CALLED PREPROCESSING DATA\n",
    "# look into missing columns and see if its missingness holds value\n",
    "cols_with_missing = [col for col in X_train.columns if X_train[col].isnull().any()]\n",
    "# selected_cols_with_missing = cols_with_missing.drop(['BsmtQual'], ['BsmtCond'], ['BsmtExposure'], ['BsmtFinType1'], ['BsmtFinType2'], ['GarageType'])\n",
    "print(cols_with_missing)"
   ]
  },
  {
   "cell_type": "code",
   "execution_count": null,
   "metadata": {},
   "outputs": [],
   "source": [
    "from sklearn.preprocessing import StandardScaler\n",
    "from sklearn.pipeline import Pipeline\n",
    "from sklearn.compose import ColumnTransformer\n",
    "from sklearn.impute import SimpleImputer\n",
    "from sklearn.preprocessing import OrdinalEncoder\n",
    "\n",
    "# Create transformers for numerical and categorical features\n",
    "numerical_transformer = Pipeline(steps=[\n",
    "    ('imputer', SimpleImputer(strategy='mean')),\n",
    "    ('scaler', StandardScaler())\n",
    "])\n",
    "\n",
    "categorical_transformer = Pipeline(steps=[\n",
    "    ('imputer', SimpleImputer(strategy='most_frequent')),\n",
    "    ('encoder', OrdinalEncoder(handle_unknown='use_encoded_value', unknown_value=-1))\n",
    "])\n",
    "\n",
    "# Create a ColumnTransformer to apply different transformers to feature types\n",
    "preprocessor = ColumnTransformer(transformers=[\n",
    "    ('num', numerical_transformer, numerical_cols),\n",
    "    ('cat', categorical_transformer, categorical_cols)\n",
    "])\n"
   ]
  },
  {
   "cell_type": "code",
   "execution_count": null,
   "metadata": {},
   "outputs": [],
   "source": [
    "# Step 2: Define the Model\n",
    "from sklearn.ensemble import RandomForestRegressor\n",
    "model = RandomForestRegressor(n_estimators=250, random_state=55)"
   ]
  },
  {
   "cell_type": "markdown",
   "metadata": {},
   "source": [
    "1. n_estimators=100, random_state=0:  rmse: 31320.64408937722\n",
    "2. n_estimators=300, random_state=0:  rmse: 31240.181525443895\n",
    "3. n_estimators=300, random_state=42: rmse: 30848.3330883714\n",
    "4. n_estimators=400, random_state=42  rmse: 30675.564025063748\n",
    "5. n_estimators=400, random_state=55  rmse: 30068.437446816566\n",
    "    - BEST SCORE:\n",
    "    - n_estimators=250, random_state=55  rmse: 29866.344956563484"
   ]
  },
  {
   "cell_type": "code",
   "execution_count": null,
   "metadata": {},
   "outputs": [],
   "source": [
    "from sklearn.metrics import mean_absolute_error, mean_squared_error\n",
    "\n",
    "# Create a pipline \n",
    "my_pipeline = Pipeline(steps=[('preprocessor', preprocessor),\n",
    "                              ('model', model)\n",
    "                             ])\n",
    "# This line fits the pipeline to the training data,\n",
    "my_pipeline.fit(X_train, y_train)\n",
    "\n",
    "# Preprocessing of validation data, get predictions\n",
    "preds = my_pipeline.predict(X_valid)\n",
    "\n",
    "# Evaluate the model\n",
    "score = mean_absolute_error(y_valid, preds)\n",
    "rmse = np.sqrt(mean_squared_error(y_valid, preds))\n",
    "print('score', score)\n",
    "print('rmse:', rmse)"
   ]
  }
 ],
 "metadata": {
  "kernelspec": {
   "display_name": "Python 3",
   "language": "python",
   "name": "python3"
  },
  "language_info": {
   "codemirror_mode": {
    "name": "ipython",
    "version": 3
   },
   "file_extension": ".py",
   "mimetype": "text/x-python",
   "name": "python",
   "nbconvert_exporter": "python",
   "pygments_lexer": "ipython3",
   "version": "3.11.3"
  },
  "orig_nbformat": 4
 },
 "nbformat": 4,
 "nbformat_minor": 2
}
